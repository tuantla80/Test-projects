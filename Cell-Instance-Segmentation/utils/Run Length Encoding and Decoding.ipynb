{
 "cells": [
  {
   "cell_type": "markdown",
   "metadata": {},
   "source": [
    "```\n",
    "Run-length encoding (RLE): a lossless data compression.\n",
    "Eg 1. A simple example \n",
    " - sequence : AAAAAACCCBBBBBBAAAFFFFF\n",
    " -> Using run-length encoding, we can represent it as A6C3B6A3F5\n",
    "The 23 length sequence was compressed to a 10 length sequence.\n",
    "\n",
    "Eg 2. Refer to below code\n",
    "```"
   ]
  },
  {
   "cell_type": "code",
   "execution_count": 1,
   "metadata": {},
   "outputs": [],
   "source": [
    "import numpy as np\n",
    "import cv2\n",
    "%matplotlib inline\n",
    "from matplotlib import pyplot as plt\n",
    "from matplotlib import pyplot"
   ]
  },
  {
   "cell_type": "markdown",
   "metadata": {},
   "source": [
    "## 1. Image of 1 - mask and 0 -background"
   ]
  },
  {
   "cell_type": "code",
   "execution_count": 2,
   "metadata": {},
   "outputs": [
    {
     "name": "stdout",
     "output_type": "stream",
     "text": [
      "img.shape = (8, 6)\n"
     ]
    },
    {
     "data": {
      "image/png": "[encoded data removed]",
      "text/plain": [
       "<Figure size 432x288 with 1 Axes>"
      ]
     },
     "metadata": {
      "needs_background": "light"
     },
     "output_type": "display_data"
    }
   ],
   "source": [
    "grid = [ [0, 0, 0, 0, 0, 0],\n",
    "         [0, 0, 0, 0, 0, 0],\n",
    "         [0, 1, 1, 1, 0, 0],\n",
    "         [0, 1, 1, 1, 0, 0],\n",
    "         [0, 1, 1, 1, 1, 0],\n",
    "         [0, 1, 1, 1, 1, 0],\n",
    "         [0, 1, 1, 1, 1, 0],    \n",
    "         [0, 0, 0, 0, 0, 0] ]\n",
    "\n",
    "img = np.asarray(grid)\n",
    "print(f'img.shape = {img.shape}')\n",
    "fig, ax = pyplot.subplots(1)\n",
    "for (j, i), label in np.ndenumerate(grid):\n",
    "    ax.text(i, j, label, ha='center', va='center')\n",
    "plt.imshow(img)\n",
    "plt.show()"
   ]
  },
  {
   "cell_type": "code",
   "execution_count": 3,
   "metadata": {},
   "outputs": [
    {
     "data": {
      "text/plain": [
       "array([[0, 0, 0, 0, 0, 0],\n",
       "       [0, 0, 0, 0, 0, 0],\n",
       "       [0, 1, 1, 1, 0, 0],\n",
       "       [0, 1, 1, 1, 0, 0],\n",
       "       [0, 1, 1, 1, 1, 0],\n",
       "       [0, 1, 1, 1, 1, 0],\n",
       "       [0, 1, 1, 1, 1, 0],\n",
       "       [0, 0, 0, 0, 0, 0]])"
      ]
     },
     "execution_count": 3,
     "metadata": {},
     "output_type": "execute_result"
    }
   ],
   "source": [
    "img"
   ]
  },
  {
   "cell_type": "markdown",
   "metadata": {},
   "source": [
    "## 2. Run Length Encoding"
   ]
  },
  {
   "cell_type": "code",
   "execution_count": 4,
   "metadata": {},
   "outputs": [],
   "source": [
    "def rle_encode(img):\n",
    "    '''\n",
    "    :param: img: numpy array (1 - mask, 0 - background)\n",
    "        Eg. img = array([[0, 0, 0, 0, 0, 0],\n",
    "                         [0, 0, 0, 0, 0, 0],\n",
    "                         [0, 1, 1, 1, 0, 0],\n",
    "                         [0, 1, 1, 1, 0, 0],\n",
    "                         [0, 1, 1, 1, 1, 0],\n",
    "                         [0, 1, 1, 1, 1, 0],\n",
    "                         [0, 1, 1, 1, 1, 0],\n",
    "                         [0, 0, 0, 0, 0, 0]])        \n",
    "    Returns: run length as string formated\n",
    "        Eg. '14 3 20 3 26 4 32 4 38 4'\n",
    "    '''\n",
    "    # flattern multi-dimensional array to 1D array\n",
    "    pixels = img.flatten()\n",
    "    # Add 0 at the start and end of 1D array\n",
    "    pixels = np.concatenate([[0], pixels, [0]])\n",
    "    \n",
    "    runs = np.where(pixels[1:] != pixels[:-1])[0] + 1\n",
    "    runs[1::2] -= runs[::2]\n",
    "    return ' '.join(str(x) for x in runs)"
   ]
  },
  {
   "cell_type": "markdown",
   "metadata": {},
   "source": [
    "#### test rle_encode()"
   ]
  },
  {
   "cell_type": "code",
   "execution_count": 5,
   "metadata": {},
   "outputs": [
    {
     "data": {
      "text/plain": [
       "'14 3 20 3 26 4 32 4 38 4'"
      ]
     },
     "execution_count": 5,
     "metadata": {},
     "output_type": "execute_result"
    }
   ],
   "source": [
    "rle_encode(img)  # refer to the above image \n",
    "                 # scan row by row"
   ]
  },
  {
   "cell_type": "markdown",
   "metadata": {},
   "source": [
    "## 3. Run Length Decode"
   ]
  },
  {
   "cell_type": "code",
   "execution_count": 6,
   "metadata": {},
   "outputs": [],
   "source": [
    "def rle_decode(mask_rle, shape):\n",
    "    '''\n",
    "    :param: mask_rle: run-length as string formated (start length)       \n",
    "    :param: shape: (height, width) of array to return         \n",
    "    Returns: numpy array, 1 - mask, 0 - background\n",
    "    Usage: \n",
    "        array = rle_decode(mask_rle = '14 3 20 3 26 4 32 4 38 4', \n",
    "                           shape = (8, 6))\n",
    "    '''\n",
    "    s = mask_rle.split()\n",
    "    starts, lengths = [np.asarray(x, dtype=int) for x in (s[0:][::2], s[1:][::2])]\n",
    "    starts -= 1\n",
    "    ends = starts + lengths\n",
    "    img = np.zeros(shape[0] * shape[1], dtype = np.uint8)\n",
    "    for lo, hi in zip(starts, ends):\n",
    "        img[lo : hi] = 1\n",
    "    return img.reshape(shape)"
   ]
  },
  {
   "cell_type": "markdown",
   "metadata": {},
   "source": [
    "#### test rle_decode()"
   ]
  },
  {
   "cell_type": "code",
   "execution_count": 7,
   "metadata": {},
   "outputs": [
    {
     "data": {
      "text/plain": [
       "array([[0, 0, 0, 0, 0, 0],\n",
       "       [0, 0, 0, 0, 0, 0],\n",
       "       [0, 1, 1, 1, 0, 0],\n",
       "       [0, 1, 1, 1, 0, 0],\n",
       "       [0, 1, 1, 1, 1, 0],\n",
       "       [0, 1, 1, 1, 1, 0],\n",
       "       [0, 1, 1, 1, 1, 0],\n",
       "       [0, 0, 0, 0, 0, 0]], dtype=uint8)"
      ]
     },
     "execution_count": 7,
     "metadata": {},
     "output_type": "execute_result"
    }
   ],
   "source": [
    "rle_decode(mask_rle = '14 3 20 3 26 4 32 4 38 4', shape = (8, 6))"
   ]
  },
  {
   "cell_type": "markdown",
   "metadata": {},
   "source": [
    "### Test code"
   ]
  },
  {
   "cell_type": "code",
   "execution_count": 8,
   "metadata": {},
   "outputs": [
    {
     "name": "stdout",
     "output_type": "stream",
     "text": [
      "[0 1 1 0 0 0 1 0]\n",
      "[1 1 0 0 0 1 0]\n",
      "[0 1 1 0 0 0 1]\n",
      "[ True False  True False False  True  True]\n",
      "(array([0, 2, 5, 6], dtype=int64),)\n",
      "[0 2 5 6]\n",
      "[1 3 6 7]\n",
      "[3 7]\n",
      "[1 6]\n",
      "<class 'numpy.ndarray'>\n",
      "[1 2 6 1]\n"
     ]
    }
   ],
   "source": [
    "pixels = np.concatenate([[0], [1, 1, 0, 0, 0, 1], [0]])\n",
    "print(pixels)\n",
    "print(pixels[1:])\n",
    "print(pixels[:-1])\n",
    "print(pixels[1:] != pixels[:-1])\n",
    "print(np.where(pixels[1:] != pixels[:-1]))\n",
    "print(np.where(pixels[1:] != pixels[:-1])[0])\n",
    "print(np.where(pixels[1:] != pixels[:-1])[0] + 1)\n",
    "runs = np.where(pixels[1:] != pixels[:-1])[0] + 1\n",
    "print(runs[1::2])\n",
    "print(runs[::2])\n",
    "print(type(runs))\n",
    "\n",
    "runs[1::2] -= runs[::2]\n",
    "print(runs)"
   ]
  },
  {
   "cell_type": "code",
   "execution_count": 9,
   "metadata": {},
   "outputs": [
    {
     "data": {
      "text/plain": [
       "['14', '3', '20', '3', '26', '4', '32', '4', '38', '4']"
      ]
     },
     "execution_count": 9,
     "metadata": {},
     "output_type": "execute_result"
    }
   ],
   "source": [
    "mask_rle = '14 3 20 3 26 4 32 4 38 4'\n",
    "s = mask_rle.split()\n",
    "s"
   ]
  },
  {
   "cell_type": "code",
   "execution_count": 10,
   "metadata": {},
   "outputs": [
    {
     "data": {
      "text/plain": [
       "(array([14, 20, 26, 32, 38]), array([3, 3, 4, 4, 4]))"
      ]
     },
     "execution_count": 10,
     "metadata": {},
     "output_type": "execute_result"
    }
   ],
   "source": [
    "starts, lengths = [np.asarray(x, dtype=int) for x in (s[0:][::2], s[1:][::2])]\n",
    "starts, lengths"
   ]
  },
  {
   "cell_type": "code",
   "execution_count": 11,
   "metadata": {},
   "outputs": [
    {
     "data": {
      "text/plain": [
       "array([13, 19, 25, 31, 37])"
      ]
     },
     "execution_count": 11,
     "metadata": {},
     "output_type": "execute_result"
    }
   ],
   "source": [
    "starts -= 1\n",
    "starts"
   ]
  },
  {
   "cell_type": "code",
   "execution_count": 12,
   "metadata": {},
   "outputs": [
    {
     "data": {
      "text/plain": [
       "array([16, 22, 29, 35, 41])"
      ]
     },
     "execution_count": 12,
     "metadata": {},
     "output_type": "execute_result"
    }
   ],
   "source": [
    "ends = starts + lengths\n",
    "ends"
   ]
  },
  {
   "cell_type": "code",
   "execution_count": null,
   "metadata": {},
   "outputs": [],
   "source": []
  }
 ],
 "metadata": {
  "kernelspec": {
   "display_name": "Python 3",
   "language": "python",
   "name": "python3"
  },
  "language_info": {
   "codemirror_mode": {
    "name": "ipython",
    "version": 3
   },
   "file_extension": ".py",
   "mimetype": "text/x-python",
   "name": "python",
   "nbconvert_exporter": "python",
   "pygments_lexer": "ipython3",
   "version": "3.8.5"
  }
 },
 "nbformat": 4,
 "nbformat_minor": 4
}
